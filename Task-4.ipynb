{
 "cells": [
  {
   "cell_type": "markdown",
   "id": "08258899",
   "metadata": {},
   "source": [
    "# TASK-4"
   ]
  },
  {
   "cell_type": "markdown",
   "id": "4661c781",
   "metadata": {},
   "source": [
    "# "
   ]
  },
  {
   "cell_type": "markdown",
   "id": "95e81417",
   "metadata": {},
   "source": [
    "# 1)Given a list of numbers, write a python program that returns a new list which has all duplicate elements removed. And is sorted in an increasing order.\n",
    "Input:\n",
    "[2,1,3,4,2,3,3,2,7,9,8,7]                                                                                                      \n",
    "Output:\n",
    "[1,2,3,4,7,8,9]"
   ]
  },
  {
   "cell_type": "code",
   "execution_count": 5,
   "id": "c5336bfa",
   "metadata": {},
   "outputs": [
    {
     "name": "stdout",
     "output_type": "stream",
     "text": [
      "[1, 2, 3, 4, 7, 8, 9]\n"
     ]
    }
   ],
   "source": [
    "a=[2,1,3,4,2,3,3,2,7,9,8,7]\n",
    "b=set(a)\n",
    "print(list(b))"
   ]
  },
  {
   "cell_type": "markdown",
   "id": "27952baf",
   "metadata": {},
   "source": [
    "# 2. Write a Python program where you will iterate over both keys and values in dictionaries"
   ]
  },
  {
   "cell_type": "code",
   "execution_count": 56,
   "id": "1f8344fa",
   "metadata": {},
   "outputs": [
    {
     "data": {
      "text/plain": [
       "{'Telangana': 'Hyderbad',\n",
       " 'TamilNadu': 'Chennai',\n",
       " 'MH': 'Mumbai',\n",
       " 'Goa': 'panaji',\n",
       " 'Bihar': 'Patna',\n",
       " 'WB': 'Kolkata'}"
      ]
     },
     "execution_count": 56,
     "metadata": {},
     "output_type": "execute_result"
    }
   ],
   "source": [
    "states_cities={\"Telangana\":\"Hyderbad\",\"TamilNadu\":\"Chennai\",\"MH\":\"Mumbai\",\"Goa\":\"panaji\",\"Bihar\":\"Patna\",\"WB\":\"Kolkata\"}\n",
    "states_cities.items()\n",
    "states_cities"
   ]
  },
  {
   "cell_type": "markdown",
   "id": "19261940",
   "metadata": {},
   "source": [
    "# 3. Write a Python program that takes a dictionary of student names and returns a list of student names in alphabetical order\n",
    "Input:                                                                                                                         \n",
    "{“Student 1”: \"Tarun\", \"Student 2”: \"Manoj\", \"Student 3”: \"Gephi”}                                                             \n",
    "Output:                                                                                                                        \n",
    " [“Gephi”,”Manoj”,” Tarun”]"
   ]
  },
  {
   "cell_type": "code",
   "execution_count": 24,
   "id": "9d067f00",
   "metadata": {},
   "outputs": [
    {
     "name": "stdout",
     "output_type": "stream",
     "text": [
      "['Gephi', 'Manoj', 'Tarun']\n"
     ]
    }
   ],
   "source": [
    "intpt={\"Student1\":\"Tarun\",\"Student2\":\"Manoj\",\"Student3\":\"Gephi\"}\n",
    "a=intpt.values()\n",
    "b=list(a)\n",
    "b.sort()\n",
    "print(b)"
   ]
  },
  {
   "cell_type": "markdown",
   "id": "9a6d2185",
   "metadata": {},
   "source": [
    "# 4. Write a Python which returns a new list of Booleans, from a given number. Iterating through the number one digit at a time, append True if the digit is 1 and False if it is 0.\n",
    "Input: “01001”                                                                                                                \n",
    "Output: [“False”, “True”, “False”,” False”,” True”]"
   ]
  },
  {
   "cell_type": "code",
   "execution_count": 7,
   "id": "ac6af1a8",
   "metadata": {},
   "outputs": [
    {
     "name": "stdout",
     "output_type": "stream",
     "text": [
      "['False', 'True', 'False', 'False', 'True']\n"
     ]
    }
   ],
   "source": [
    "a=\"01001\"\n",
    "l=[]\n",
    "for y in a:\n",
    "    if y==\"1\":\n",
    "        l.append(\"True\")\n",
    "    elif y==\"0\":\n",
    "        l.append(\"False\")\n",
    "print(l)"
   ]
  },
  {
   "cell_type": "markdown",
   "id": "eef6acea",
   "metadata": {},
   "source": [
    "# 5. Write a Python program where you will return a dictionary where the keys will be the character and the values will be the occurrence of the character in the string, and it should for any string inputs (dynamic)\n",
    "Input: “my name is ame”                                                                                                        \n",
    "Output: {“m”:3,” y”:1,” n”:1,” a”:2,” e”:2,” i”:1,” s”:1}"
   ]
  },
  {
   "cell_type": "code",
   "execution_count": 23,
   "id": "bb75622a",
   "metadata": {},
   "outputs": [
    {
     "name": "stdout",
     "output_type": "stream",
     "text": [
      "Output :  {'e': 2, 'n': 1, 'i': 1, 'a': 2, 's': 1, 'y': 1, 'm': 3}\n"
     ]
    }
   ],
   "source": [
    "var=\"mynameisame\"\n",
    "var1=set(var)\n",
    "var2=list(var1)\n",
    "a=dict()\n",
    "for y in var2:\n",
    "    a.update({y:var.count(y)})\n",
    "print(\"Output : \",a)"
   ]
  },
  {
   "cell_type": "markdown",
   "id": "11f22f0d",
   "metadata": {},
   "source": [
    "# 6. Given a dictionary containing the names and ages of a group of people, return the name of the oldest person\n",
    "Input: {\"Tmma\": 41, \"Ackes\": 45, \"myna\": 15, \"Benthon\": 29}                                                                    \n",
    "Output: “Ackes”"
   ]
  },
  {
   "cell_type": "code",
   "execution_count": 34,
   "id": "642d3da5",
   "metadata": {},
   "outputs": [
    {
     "data": {
      "text/plain": [
       "'Ackes'"
      ]
     },
     "execution_count": 34,
     "metadata": {},
     "output_type": "execute_result"
    }
   ],
   "source": [
    "var={\"Tmma\":41,\"Ackes\":45,\"myna\":15,\"Benthon\":29}\n",
    "var1=var.keys()\n",
    "var2=list(var1)\n",
    "var2[1]"
   ]
  },
  {
   "cell_type": "markdown",
   "id": "cab12e5e",
   "metadata": {},
   "source": [
    "# 7. Write a Python program to create a Rock, Paper, Scissor game, use two inputs for two\n",
    "players:\n",
    "Conditions: -Rock beats Scissors, Scissors beats Paper, Paper beats Rock"
   ]
  },
  {
   "cell_type": "code",
   "execution_count": 36,
   "id": "7b35455f",
   "metadata": {},
   "outputs": [
    {
     "name": "stdout",
     "output_type": "stream",
     "text": [
      "Player1 = paper\n",
      "Player2 = rock\n",
      "rock win the game \n"
     ]
    }
   ],
   "source": [
    "p1=input(\"Player1 = \")\n",
    "p2=input(\"Player2 = \")\n",
    "if p1==\"rock\":\n",
    "    if p2==\"rock\":\n",
    "        print(\"tie\")\n",
    "    elif p2==\"scissor\":\n",
    "        print(\"rock win the game\")\n",
    "    elif p2==\"paper\":\n",
    "        print(\"paper win the game\")\n",
    "    else:\n",
    "        print(\"wrong person played with rock\")\n",
    "if p1==\"scissor\":\n",
    "    if p2==\"rock\":\n",
    "        print(\"rock win the game\")\n",
    "    elif p2==\"scissor\":\n",
    "        print(\"Tie\")\n",
    "    elif p2==\"paper\":\n",
    "        print(\"scissor win the game \")\n",
    "    else:\n",
    "        print(\"wrog person played with scissor \")\n",
    "if p1==\"paper\":\n",
    "    if p2==\"rock\":\n",
    "        print(\"rock win the game \")\n",
    "    elif p2==\"scissor\":\n",
    "        print(\"scissor win the game \")\n",
    "    elif p2==\"paper\":\n",
    "        print(\"Tie\")\n",
    "    else:\n",
    "        print(\"wrong person played with paper\")"
   ]
  },
  {
   "cell_type": "markdown",
   "id": "c00f81bf",
   "metadata": {},
   "source": [
    "# 8. Create a program that returns a list of items that you can afford in the store with the money you have in your wallet. Create a dictionary with items as key and price as values\n",
    "Input:                                                                                                                          \n",
    "{“water bottles”: “20”,” chips”:10,” Iphone”;49000“,” towel”:90,” pens”:58,” cake”;400}                                        \n",
    "Your wallet balance: -50                                                                                                       \n",
    "Output:                                                                                                                        \n",
    "[“water bottles”, “chips”]"
   ]
  },
  {
   "cell_type": "code",
   "execution_count": 42,
   "id": "45269a6b",
   "metadata": {},
   "outputs": [
    {
     "name": "stdout",
     "output_type": "stream",
     "text": [
      "['water bottles', 'chips']\n"
     ]
    }
   ],
   "source": [
    "a={\"water bottles\":20,\"chips\":10,\"iphone\":49000,\"towel\":90,\"pens\":58,\"cake\":400}\n",
    "b=[]\n",
    "for keys,values in a.items():\n",
    "    if values<50:\n",
    "        b.append(keys)\n",
    "print(b)"
   ]
  },
  {
   "cell_type": "markdown",
   "id": "439a5f5c",
   "metadata": {},
   "source": [
    "# 9. Write a Python program to create a union of sets"
   ]
  },
  {
   "cell_type": "code",
   "execution_count": 54,
   "id": "bbe9c815",
   "metadata": {},
   "outputs": [
    {
     "data": {
      "text/plain": [
       "{1, 2, 3, 4, 5, 6, 7, 8, 9}"
      ]
     },
     "execution_count": 54,
     "metadata": {},
     "output_type": "execute_result"
    }
   ],
   "source": [
    "set1={1,2,3,4,5}\n",
    "set2={4,5,6,7,8,9}\n",
    "set1.union(set2)"
   ]
  },
  {
   "cell_type": "code",
   "execution_count": 55,
   "id": "77a49d6b",
   "metadata": {},
   "outputs": [
    {
     "data": {
      "text/plain": [
       "{1, 2, 3, 4, 5, 6, 7, 8, 9}"
      ]
     },
     "execution_count": 55,
     "metadata": {},
     "output_type": "execute_result"
    }
   ],
   "source": [
    "set1={1,2,3,4,5}\n",
    "set2={4,5,6,7,8,9}\n",
    "set2.union(set1)"
   ]
  },
  {
   "cell_type": "markdown",
   "id": "5c01ba51",
   "metadata": {},
   "source": [
    "# 10. Write a Python program to check if a given value is present in a set or not (Dynamic)"
   ]
  },
  {
   "cell_type": "code",
   "execution_count": 46,
   "id": "b9697520",
   "metadata": {},
   "outputs": [
    {
     "name": "stdout",
     "output_type": "stream",
     "text": [
      "Roll No: 4\n",
      "Present sir!!!!!!! \n"
     ]
    }
   ],
   "source": [
    "#attendance\n",
    "\n",
    "a={1,2,3,4,5}\n",
    "integr=int(input(\"Roll No: \"))\n",
    "for y in a:\n",
    "    if y==integr:\n",
    "        print(\"Present sir!!!!!!! \")"
   ]
  },
  {
   "cell_type": "markdown",
   "id": "3fc21aac",
   "metadata": {},
   "source": [
    "# 11. Write a Python program to find the occurrences of 3 most common words in a given text and make it as a dictionaries\n",
    "Input:                                                                                                                         \n",
    "” Cat dog dog cat horse dog dog mouse horse dog mouse tiger lion tiger cat mouse snail”                                        \n",
    "Output:                                                                                                                        \n",
    "(“dog”:5,”cat”:3,” mouse”;3)"
   ]
  },
  {
   "cell_type": "code",
   "execution_count": 49,
   "id": "4f1a1a73",
   "metadata": {},
   "outputs": [
    {
     "name": "stdout",
     "output_type": "stream",
     "text": [
      "{'cat': 3, 'dog': 5, 'mouse': 3}\n"
     ]
    }
   ],
   "source": [
    "var=\"cat dog dog cat horse dog dog mouse horse dog mouse tiger lion tiger cat mouse snail\"\n",
    "var1=var.split()\n",
    "l=[]\n",
    "dict1={}\n",
    "for i in var1:\n",
    "    if var1.count(i)>2:\n",
    "        if i in dict1:\n",
    "            dict1[i]+=1\n",
    "        else:\n",
    "            dict1[i]=1\n",
    "print(dict1)"
   ]
  },
  {
   "cell_type": "markdown",
   "id": "d29262cd",
   "metadata": {},
   "source": [
    "# 12. Write a Python program that accepts name of given subject and mark, and make subjects as keys in dictionaries and marks as values and print the final dictionary with subjects and marks"
   ]
  },
  {
   "cell_type": "code",
   "execution_count": 12,
   "id": "910931a0",
   "metadata": {},
   "outputs": [
    {
     "name": "stdout",
     "output_type": "stream",
     "text": [
      "{'Telugu': 90, 'Hindi': 91, 'English': 92, 'Maths': 93, 'Science': 94, 'Biology': 95, 'Social': 96}\n"
     ]
    }
   ],
   "source": [
    "subject=[\"Telugu\",\"Hindi\",\"English\",\"Maths\",\"Science\",\"Biology\",\"Social\",]\n",
    "marks=[90,91,92,93,94,95,96]\n",
    "print(dict(zip(subject,marks)))"
   ]
  }
 ],
 "metadata": {
  "kernelspec": {
   "display_name": "Python 3 (ipykernel)",
   "language": "python",
   "name": "python3"
  },
  "language_info": {
   "codemirror_mode": {
    "name": "ipython",
    "version": 3
   },
   "file_extension": ".py",
   "mimetype": "text/x-python",
   "name": "python",
   "nbconvert_exporter": "python",
   "pygments_lexer": "ipython3",
   "version": "3.9.13"
  }
 },
 "nbformat": 4,
 "nbformat_minor": 5
}
